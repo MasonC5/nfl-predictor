{
 "cells": [
  {
   "cell_type": "markdown",
   "id": "cdadc252",
   "metadata": {},
   "source": [
    "# 📊 01 - Explore and Understand NFL Data"
   ]
  },
  {
   "cell_type": "code",
   "execution_count": null,
   "id": "39e0783e",
   "metadata": {},
   "outputs": [],
   "source": [
    "import pandas as pd\n",
    "import matplotlib.pyplot as plt\n",
    "import seaborn as sns\n",
    "\n",
    "# Load data\n",
    "df = pd.read_csv('../data/historical_team_stats.csv')\n",
    "\n",
    "# Preview\n",
    "df.head()"
   ]
  },
  {
   "cell_type": "code",
   "execution_count": null,
   "id": "159814b2",
   "metadata": {},
   "outputs": [],
   "source": [
    "# Check for missing values\n",
    "df.isna().sum()"
   ]
  },
  {
   "cell_type": "code",
   "execution_count": null,
   "id": "02161e43",
   "metadata": {},
   "outputs": [],
   "source": [
    "# Example visualization: Offensive yards vs wins (adjust column names if needed)\n",
    "sns.scatterplot(data=df, x='Yds_off', y='W_off')\n",
    "plt.title(\"Offensive Yards vs Wins\")\n",
    "plt.xlabel(\"Offensive Yards\")\n",
    "plt.ylabel(\"Wins\")\n",
    "plt.show()"
   ]
  }
 ],
 "metadata": {},
 "nbformat": 4,
 "nbformat_minor": 5
}