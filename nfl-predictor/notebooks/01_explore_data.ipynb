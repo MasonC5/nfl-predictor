import pandas as pd
import matplotlib.pyplot as plt
import seaborn as sns

# Load engineered data
df = pd.read_csv("data/engineered_team_stats.csv")

# Display basic info
print(df.shape)
print(df["Season"].value_counts().sort_index())
df.head()

# Distribution of Super Bowl Wins
sns.countplot(x="Won_SB", data=df)
plt.title("Distribution of Super Bowl Winners")
plt.xlabel("Won Super Bowl")
plt.ylabel("Team Count")
plt.show()

# Point Differential Trends
df.groupby("Season")["Point_Diff"].mean().plot(title="Average Point Differential by Season")
plt.xlabel("Season")
plt.ylabel("Avg Point Diff")
plt.show()

# Correlation Heatmap
selected_features = ["Point_Diff", "Yard_Diff", "Turnover_Margin", "Won_SB"]
sns.heatmap(df[selected_features].corr(), annot=True, cmap="coolwarm")
plt.title("Correlation Heatmap")
plt.show()

# Feature comparison: Winners vs Non-winners
features_to_compare = ["Point_Diff", "Yard_Diff", "Turnover_Margin"]
for feature in features_to_compare:
    sns.boxplot(x="Won_SB", y=feature, data=df)
    plt.title(f"{feature} vs Super Bowl Outcome")
    plt.show()
