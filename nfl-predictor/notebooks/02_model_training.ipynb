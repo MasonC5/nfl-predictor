{
 "cells": [
  {
   "cell_type": "markdown",
   "id": "2c852de9",
   "metadata": {},
   "source": [
    "# 🧠 02 - Train Super Bowl Predictor Model"
   ]
  },
  {
   "cell_type": "code",
   "execution_count": null,
   "id": "12c881d3",
   "metadata": {},
   "outputs": [],
   "source": [
    "import pandas as pd\n",
    "from sklearn.ensemble import RandomForestClassifier\n",
    "from sklearn.model_selection import train_test_split\n",
    "from sklearn.metrics import accuracy_score\n",
    "\n",
    "# Load data with engineered features\n",
    "df = pd.read_csv('../data/engineered_team_stats.csv')"
   ]
  },
  {
   "cell_type": "code",
   "execution_count": null,
   "id": "9b972767",
   "metadata": {},
   "outputs": [],
   "source": [
    "# Dummy Super Bowl winner column for testing\n",
    "df['Won_SB'] = df['Team'].apply(lambda x: 1 if x in ['New England Patriots', 'Kansas City Chiefs'] else 0)"
   ]
  },
  {
   "cell_type": "code",
   "execution_count": null,
   "id": "6ac359d4",
   "metadata": {},
   "outputs": [],
   "source": [
    "# Define input features and target label\n",
    "X = df[['Point_Diff', 'Yard_Diff', 'Turnover_Margin']]\n",
    "y = df['Won_SB']\n",
    "\n",
    "# Split into training/testing sets\n",
    "X_train, X_test, y_train, y_test = train_test_split(X, y, stratify=y, random_state=42)"
   ]
  },
  {
   "cell_type": "code",
   "execution_count": null,
   "id": "fe3ec98e",
   "metadata": {},
   "outputs": [],
   "source": [
    "# Train model\n",
    "model = RandomForestClassifier(n_estimators=100, random_state=42)\n",
    "model.fit(X_train, y_train)"
   ]
  },
  {
   "cell_type": "code",
   "execution_count": null,
   "id": "28695b0d",
   "metadata": {},
   "outputs": [],
   "source": [
    "# Evaluate model\n",
    "preds = model.predict(X_test)\n",
    "print(\"Accuracy:\", accuracy_score(y_test, preds))"
   ]
  }
 ],
 "metadata": {},
 "nbformat": 4,
 "nbformat_minor": 5
}